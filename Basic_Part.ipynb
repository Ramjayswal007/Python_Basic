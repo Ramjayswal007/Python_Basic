{
 "cells": [
  {
   "cell_type": "markdown",
   "id": "60b0ecb7",
   "metadata": {},
   "source": [
    "## Basic Operation in Python\n"
   ]
  },
  {
   "cell_type": "code",
   "execution_count": 1,
   "id": "25fc633b",
   "metadata": {
    "ExecuteTime": {
     "end_time": "2022-11-23T04:50:32.513970Z",
     "start_time": "2022-11-23T04:50:32.474971Z"
    }
   },
   "outputs": [
    {
     "data": {
      "text/plain": [
       "int"
      ]
     },
     "execution_count": 1,
     "metadata": {},
     "output_type": "execute_result"
    }
   ],
   "source": [
    "a = 500\n",
    "type(a)"
   ]
  },
  {
   "cell_type": "code",
   "execution_count": 2,
   "id": "f103e0d3",
   "metadata": {
    "ExecuteTime": {
     "end_time": "2022-11-23T05:04:04.489384Z",
     "start_time": "2022-11-23T05:04:04.479358Z"
    }
   },
   "outputs": [],
   "source": [
    "d= \"it's a notebook\""
   ]
  },
  {
   "cell_type": "code",
   "execution_count": 3,
   "id": "99a0b42a",
   "metadata": {
    "ExecuteTime": {
     "end_time": "2022-11-23T05:45:16.179009Z",
     "start_time": "2022-11-23T05:45:16.158011Z"
    }
   },
   "outputs": [
    {
     "data": {
      "text/plain": [
       "float"
      ]
     },
     "execution_count": 3,
     "metadata": {},
     "output_type": "execute_result"
    }
   ],
   "source": [
    "a=10.8\n",
    "type(a)"
   ]
  },
  {
   "cell_type": "code",
   "execution_count": 58,
   "id": "5007c5b7",
   "metadata": {
    "ExecuteTime": {
     "end_time": "2022-11-23T06:19:17.702824Z",
     "start_time": "2022-11-23T06:19:17.678826Z"
    }
   },
   "outputs": [
    {
     "data": {
      "text/plain": [
       "'We are learning python'"
      ]
     },
     "execution_count": 58,
     "metadata": {},
     "output_type": "execute_result"
    }
   ],
   "source": [
    "a"
   ]
  },
  {
   "cell_type": "code",
   "execution_count": 59,
   "id": "e579c7a2",
   "metadata": {
    "ExecuteTime": {
     "end_time": "2022-11-23T06:19:21.708611Z",
     "start_time": "2022-11-23T06:19:21.654566Z"
    }
   },
   "outputs": [
    {
     "ename": "ValueError",
     "evalue": "invalid literal for int() with base 10: 'We are learning python'",
     "output_type": "error",
     "traceback": [
      "\u001b[1;31m---------------------------------------------------------------------------\u001b[0m",
      "\u001b[1;31mValueError\u001b[0m                                Traceback (most recent call last)",
      "Input \u001b[1;32mIn [59]\u001b[0m, in \u001b[0;36m<cell line: 1>\u001b[1;34m()\u001b[0m\n\u001b[1;32m----> 1\u001b[0m a\u001b[38;5;241m=\u001b[39m \u001b[38;5;28;43mint\u001b[39;49m\u001b[43m(\u001b[49m\u001b[43ma\u001b[49m\u001b[43m)\u001b[49m\n\u001b[0;32m      2\u001b[0m \u001b[38;5;28mtype\u001b[39m(a)\n",
      "\u001b[1;31mValueError\u001b[0m: invalid literal for int() with base 10: 'We are learning python'"
     ]
    }
   ],
   "source": [
    "a= int(a)\n",
    "type(a)"
   ]
  },
  {
   "cell_type": "code",
   "execution_count": 19,
   "id": "8e5b1bcc",
   "metadata": {
    "ExecuteTime": {
     "end_time": "2022-11-23T05:53:40.974387Z",
     "start_time": "2022-11-23T05:53:40.957359Z"
    }
   },
   "outputs": [
    {
     "name": "stdout",
     "output_type": "stream",
     "text": [
      "<class 'str'>\n"
     ]
    }
   ],
   "source": [
    "a = str(s)\n",
    "print(type(a))"
   ]
  },
  {
   "cell_type": "code",
   "execution_count": 22,
   "id": "e5551371",
   "metadata": {
    "ExecuteTime": {
     "end_time": "2022-11-23T05:55:10.519707Z",
     "start_time": "2022-11-23T05:55:10.509660Z"
    }
   },
   "outputs": [],
   "source": [
    "k =10"
   ]
  },
  {
   "cell_type": "code",
   "execution_count": 23,
   "id": "efc8251c",
   "metadata": {
    "ExecuteTime": {
     "end_time": "2022-11-23T05:55:35.053370Z",
     "start_time": "2022-11-23T05:55:35.029420Z"
    }
   },
   "outputs": [
    {
     "data": {
      "text/plain": [
       "10.0"
      ]
     },
     "execution_count": 23,
     "metadata": {},
     "output_type": "execute_result"
    }
   ],
   "source": [
    "float(k)"
   ]
  },
  {
   "cell_type": "code",
   "execution_count": 24,
   "id": "05de8620",
   "metadata": {
    "ExecuteTime": {
     "end_time": "2022-11-23T05:55:42.856011Z",
     "start_time": "2022-11-23T05:55:42.837965Z"
    }
   },
   "outputs": [],
   "source": [
    "b=500"
   ]
  },
  {
   "cell_type": "code",
   "execution_count": 25,
   "id": "c19f3a15",
   "metadata": {
    "ExecuteTime": {
     "end_time": "2022-11-23T05:55:55.681289Z",
     "start_time": "2022-11-23T05:55:55.667291Z"
    }
   },
   "outputs": [
    {
     "data": {
      "text/plain": [
       "True"
      ]
     },
     "execution_count": 25,
     "metadata": {},
     "output_type": "execute_result"
    }
   ],
   "source": [
    "bool(b)"
   ]
  },
  {
   "cell_type": "code",
   "execution_count": null,
   "id": "45c08bee",
   "metadata": {},
   "outputs": [],
   "source": []
  },
  {
   "cell_type": "markdown",
   "id": "4636a776",
   "metadata": {
    "ExecuteTime": {
     "end_time": "2022-11-23T05:49:31.817642Z",
     "start_time": "2022-11-23T05:49:31.796595Z"
    }
   },
   "source": [
    "## String methods"
   ]
  },
  {
   "cell_type": "code",
   "execution_count": 20,
   "id": "cf6ba61b",
   "metadata": {
    "ExecuteTime": {
     "end_time": "2022-11-23T05:54:45.632967Z",
     "start_time": "2022-11-23T05:54:45.618965Z"
    }
   },
   "outputs": [],
   "source": [
    "s = 'we are learning python'"
   ]
  },
  {
   "cell_type": "code",
   "execution_count": 21,
   "id": "a585263e",
   "metadata": {
    "ExecuteTime": {
     "end_time": "2022-11-23T05:54:48.572856Z",
     "start_time": "2022-11-23T05:54:48.557811Z"
    }
   },
   "outputs": [
    {
     "data": {
      "text/plain": [
       "'We are learning python'"
      ]
     },
     "execution_count": 21,
     "metadata": {},
     "output_type": "execute_result"
    }
   ],
   "source": [
    "s.capitalize()"
   ]
  },
  {
   "cell_type": "code",
   "execution_count": 10,
   "id": "5d919611",
   "metadata": {
    "ExecuteTime": {
     "end_time": "2022-11-23T05:50:59.358839Z",
     "start_time": "2022-11-23T05:50:59.346840Z"
    }
   },
   "outputs": [],
   "source": [
    "a= \"It's a laptop\""
   ]
  },
  {
   "cell_type": "code",
   "execution_count": 11,
   "id": "9c236642",
   "metadata": {
    "ExecuteTime": {
     "end_time": "2022-11-23T05:51:27.573364Z",
     "start_time": "2022-11-23T05:51:27.562363Z"
    }
   },
   "outputs": [],
   "source": [
    "b = 'It\"s a laptop'"
   ]
  },
  {
   "cell_type": "code",
   "execution_count": 12,
   "id": "6f8d79c9",
   "metadata": {
    "ExecuteTime": {
     "end_time": "2022-11-23T05:51:35.365000Z",
     "start_time": "2022-11-23T05:51:35.348950Z"
    }
   },
   "outputs": [
    {
     "data": {
      "text/plain": [
       "False"
      ]
     },
     "execution_count": 12,
     "metadata": {},
     "output_type": "execute_result"
    }
   ],
   "source": [
    "a==b"
   ]
  },
  {
   "cell_type": "code",
   "execution_count": 13,
   "id": "2838e52a",
   "metadata": {
    "ExecuteTime": {
     "end_time": "2022-11-23T05:51:43.047546Z",
     "start_time": "2022-11-23T05:51:43.025548Z"
    }
   },
   "outputs": [
    {
     "data": {
      "text/plain": [
       "'We are learning python'"
      ]
     },
     "execution_count": 13,
     "metadata": {},
     "output_type": "execute_result"
    }
   ],
   "source": [
    "s"
   ]
  },
  {
   "cell_type": "code",
   "execution_count": 26,
   "id": "6ae808b2",
   "metadata": {
    "ExecuteTime": {
     "end_time": "2022-11-23T05:56:38.125110Z",
     "start_time": "2022-11-23T05:56:38.110065Z"
    }
   },
   "outputs": [
    {
     "data": {
      "text/plain": [
       "1"
      ]
     },
     "execution_count": 26,
     "metadata": {},
     "output_type": "execute_result"
    }
   ],
   "source": [
    "s.count(\"i\")"
   ]
  },
  {
   "cell_type": "code",
   "execution_count": 27,
   "id": "f42f4b07",
   "metadata": {
    "ExecuteTime": {
     "end_time": "2022-11-23T05:56:50.541438Z",
     "start_time": "2022-11-23T05:56:50.517412Z"
    }
   },
   "outputs": [
    {
     "data": {
      "text/plain": [
       "3"
      ]
     },
     "execution_count": 27,
     "metadata": {},
     "output_type": "execute_result"
    }
   ],
   "source": [
    "s.count('e')"
   ]
  },
  {
   "cell_type": "code",
   "execution_count": 30,
   "id": "ae8d1d0c",
   "metadata": {
    "ExecuteTime": {
     "end_time": "2022-11-23T05:58:32.959041Z",
     "start_time": "2022-11-23T05:58:32.936040Z"
    }
   },
   "outputs": [
    {
     "data": {
      "text/plain": [
       "True"
      ]
     },
     "execution_count": 30,
     "metadata": {},
     "output_type": "execute_result"
    }
   ],
   "source": [
    "s.endswith('n')"
   ]
  },
  {
   "cell_type": "code",
   "execution_count": 32,
   "id": "1712eafd",
   "metadata": {
    "ExecuteTime": {
     "end_time": "2022-11-23T05:58:52.034034Z",
     "start_time": "2022-11-23T05:58:52.016035Z"
    }
   },
   "outputs": [
    {
     "data": {
      "text/plain": [
       "3"
      ]
     },
     "execution_count": 32,
     "metadata": {},
     "output_type": "execute_result"
    }
   ],
   "source": [
    "s.find('are')"
   ]
  },
  {
   "cell_type": "code",
   "execution_count": 52,
   "id": "5ec68234",
   "metadata": {
    "ExecuteTime": {
     "end_time": "2022-11-23T06:04:43.481636Z",
     "start_time": "2022-11-23T06:04:43.469638Z"
    }
   },
   "outputs": [],
   "source": [
    "s = 'We are learning python'"
   ]
  },
  {
   "cell_type": "code",
   "execution_count": 34,
   "id": "625fcec8",
   "metadata": {
    "ExecuteTime": {
     "end_time": "2022-11-23T05:59:32.044939Z",
     "start_time": "2022-11-23T05:59:32.032981Z"
    }
   },
   "outputs": [
    {
     "data": {
      "text/plain": [
       "16"
      ]
     },
     "execution_count": 34,
     "metadata": {},
     "output_type": "execute_result"
    }
   ],
   "source": [
    "s.index('p')"
   ]
  },
  {
   "cell_type": "code",
   "execution_count": 35,
   "id": "60a18bde",
   "metadata": {
    "ExecuteTime": {
     "end_time": "2022-11-23T05:59:55.288713Z",
     "start_time": "2022-11-23T05:59:55.272719Z"
    }
   },
   "outputs": [
    {
     "data": {
      "text/plain": [
       "False"
      ]
     },
     "execution_count": 35,
     "metadata": {},
     "output_type": "execute_result"
    }
   ],
   "source": [
    "s.endswith('N')"
   ]
  },
  {
   "cell_type": "code",
   "execution_count": 36,
   "id": "c87613ff",
   "metadata": {
    "ExecuteTime": {
     "end_time": "2022-11-23T06:00:12.665802Z",
     "start_time": "2022-11-23T06:00:12.654847Z"
    }
   },
   "outputs": [
    {
     "data": {
      "text/plain": [
       "True"
      ]
     },
     "execution_count": 36,
     "metadata": {},
     "output_type": "execute_result"
    }
   ],
   "source": [
    "s.endswith('n')"
   ]
  },
  {
   "cell_type": "code",
   "execution_count": 37,
   "id": "a90f0dc0",
   "metadata": {
    "ExecuteTime": {
     "end_time": "2022-11-23T06:00:24.516179Z",
     "start_time": "2022-11-23T06:00:24.502180Z"
    }
   },
   "outputs": [
    {
     "data": {
      "text/plain": [
       "3"
      ]
     },
     "execution_count": 37,
     "metadata": {},
     "output_type": "execute_result"
    }
   ],
   "source": [
    "s.find('are')"
   ]
  },
  {
   "cell_type": "code",
   "execution_count": 38,
   "id": "b5c13d84",
   "metadata": {
    "ExecuteTime": {
     "end_time": "2022-11-23T06:00:52.013740Z",
     "start_time": "2022-11-23T06:00:52.001788Z"
    }
   },
   "outputs": [
    {
     "data": {
      "text/plain": [
       "False"
      ]
     },
     "execution_count": 38,
     "metadata": {},
     "output_type": "execute_result"
    }
   ],
   "source": [
    "s.islower()"
   ]
  },
  {
   "cell_type": "code",
   "execution_count": 39,
   "id": "ff29719a",
   "metadata": {
    "ExecuteTime": {
     "end_time": "2022-11-23T06:01:09.667857Z",
     "start_time": "2022-11-23T06:01:09.641860Z"
    }
   },
   "outputs": [
    {
     "data": {
      "text/plain": [
       "'W#e# #a#r#e# #l#e#a#r#n#i#n#g# #p#y#t#h#o#n'"
      ]
     },
     "execution_count": 39,
     "metadata": {},
     "output_type": "execute_result"
    }
   ],
   "source": [
    "'#'.join(s)"
   ]
  },
  {
   "cell_type": "code",
   "execution_count": 49,
   "id": "1ec42c27",
   "metadata": {
    "ExecuteTime": {
     "end_time": "2022-11-23T06:04:23.802672Z",
     "start_time": "2022-11-23T06:04:23.786623Z"
    }
   },
   "outputs": [
    {
     "data": {
      "text/plain": [
       "'-W-e---a-r-e---l-e-a-r-n-i-n-g---p-y-t-h-o-n-'"
      ]
     },
     "execution_count": 49,
     "metadata": {},
     "output_type": "execute_result"
    }
   ],
   "source": [
    "s"
   ]
  },
  {
   "cell_type": "code",
   "execution_count": 50,
   "id": "a7660907",
   "metadata": {
    "ExecuteTime": {
     "end_time": "2022-11-23T06:04:27.160475Z",
     "start_time": "2022-11-23T06:04:27.142447Z"
    }
   },
   "outputs": [],
   "source": [
    "s = s.replace(' ','-')"
   ]
  },
  {
   "cell_type": "code",
   "execution_count": 51,
   "id": "d0075b83",
   "metadata": {
    "ExecuteTime": {
     "end_time": "2022-11-23T06:04:29.604317Z",
     "start_time": "2022-11-23T06:04:29.588318Z"
    }
   },
   "outputs": [
    {
     "data": {
      "text/plain": [
       "'-W-e---a-r-e---l-e-a-r-n-i-n-g---p-y-t-h-o-n-'"
      ]
     },
     "execution_count": 51,
     "metadata": {},
     "output_type": "execute_result"
    }
   ],
   "source": [
    "s"
   ]
  },
  {
   "cell_type": "code",
   "execution_count": 53,
   "id": "5a39b63b",
   "metadata": {
    "ExecuteTime": {
     "end_time": "2022-11-23T06:04:49.752307Z",
     "start_time": "2022-11-23T06:04:49.729309Z"
    }
   },
   "outputs": [
    {
     "data": {
      "text/plain": [
       "'They are learning python'"
      ]
     },
     "execution_count": 53,
     "metadata": {},
     "output_type": "execute_result"
    }
   ],
   "source": [
    "s.replace('We','They')"
   ]
  },
  {
   "cell_type": "code",
   "execution_count": 54,
   "id": "0b8aa5b0",
   "metadata": {
    "ExecuteTime": {
     "end_time": "2022-11-23T06:05:54.453865Z",
     "start_time": "2022-11-23T06:05:54.438912Z"
    }
   },
   "outputs": [
    {
     "data": {
      "text/plain": [
       "'We are learning python'"
      ]
     },
     "execution_count": 54,
     "metadata": {},
     "output_type": "execute_result"
    }
   ],
   "source": [
    "s.replace('-','#')"
   ]
  },
  {
   "cell_type": "code",
   "execution_count": 55,
   "id": "02f1f8dc",
   "metadata": {
    "ExecuteTime": {
     "end_time": "2022-11-23T06:06:39.111568Z",
     "start_time": "2022-11-23T06:06:39.097522Z"
    }
   },
   "outputs": [],
   "source": [
    "s ='we/are/learning/Python'"
   ]
  },
  {
   "cell_type": "code",
   "execution_count": 56,
   "id": "f5a61b27",
   "metadata": {
    "ExecuteTime": {
     "end_time": "2022-11-23T06:06:59.399504Z",
     "start_time": "2022-11-23T06:06:59.378459Z"
    }
   },
   "outputs": [
    {
     "data": {
      "text/plain": [
       "['we', 'are', 'learning', 'Python']"
      ]
     },
     "execution_count": 56,
     "metadata": {},
     "output_type": "execute_result"
    }
   ],
   "source": [
    "s.split('/')"
   ]
  },
  {
   "cell_type": "code",
   "execution_count": 57,
   "id": "f02b4cf4",
   "metadata": {
    "ExecuteTime": {
     "end_time": "2022-11-23T06:07:27.461032Z",
     "start_time": "2022-11-23T06:07:27.447032Z"
    }
   },
   "outputs": [
    {
     "data": {
      "text/plain": [
       "['we/are/learning/Python']"
      ]
     },
     "execution_count": 57,
     "metadata": {},
     "output_type": "execute_result"
    }
   ],
   "source": [
    "s.split('#')"
   ]
  },
  {
   "cell_type": "markdown",
   "id": "01eafecc",
   "metadata": {},
   "source": [
    "## Data Structure"
   ]
  },
  {
   "cell_type": "code",
   "execution_count": 1,
   "id": "e1bc0fda",
   "metadata": {
    "ExecuteTime": {
     "end_time": "2022-11-24T04:43:45.325308Z",
     "start_time": "2022-11-24T04:43:45.290312Z"
    }
   },
   "outputs": [],
   "source": [
    "# creating List\n",
    "lst = [10,10.5,True,'Hello']\n"
   ]
  },
  {
   "cell_type": "code",
   "execution_count": 2,
   "id": "d098f1e5",
   "metadata": {
    "ExecuteTime": {
     "end_time": "2022-11-24T04:44:04.029282Z",
     "start_time": "2022-11-24T04:44:03.997326Z"
    }
   },
   "outputs": [
    {
     "data": {
      "text/plain": [
       "[10, 10.5, True, 'Hello']"
      ]
     },
     "execution_count": 2,
     "metadata": {},
     "output_type": "execute_result"
    }
   ],
   "source": [
    "lst"
   ]
  },
  {
   "cell_type": "code",
   "execution_count": 3,
   "id": "2d4ed344",
   "metadata": {
    "ExecuteTime": {
     "end_time": "2022-11-24T04:44:36.280589Z",
     "start_time": "2022-11-24T04:44:36.258634Z"
    }
   },
   "outputs": [
    {
     "data": {
      "text/plain": [
       "list"
      ]
     },
     "execution_count": 3,
     "metadata": {},
     "output_type": "execute_result"
    }
   ],
   "source": [
    "type(lst)"
   ]
  },
  {
   "cell_type": "code",
   "execution_count": null,
   "id": "cde03e60",
   "metadata": {},
   "outputs": [],
   "source": []
  },
  {
   "cell_type": "code",
   "execution_count": 5,
   "id": "4764f353",
   "metadata": {
    "ExecuteTime": {
     "end_time": "2022-11-24T04:56:24.217433Z",
     "start_time": "2022-11-24T04:56:24.209479Z"
    }
   },
   "outputs": [],
   "source": [
    "lst.append(1000)"
   ]
  },
  {
   "cell_type": "code",
   "execution_count": 6,
   "id": "8fc13525",
   "metadata": {
    "ExecuteTime": {
     "end_time": "2022-11-24T04:58:15.738627Z",
     "start_time": "2022-11-24T04:58:15.716613Z"
    }
   },
   "outputs": [
    {
     "data": {
      "text/plain": [
       "[10, 10.5, True, 'Hello', 1000, 1000]"
      ]
     },
     "execution_count": 6,
     "metadata": {},
     "output_type": "execute_result"
    }
   ],
   "source": [
    "lst"
   ]
  },
  {
   "cell_type": "code",
   "execution_count": 7,
   "id": "fdc67e22",
   "metadata": {
    "ExecuteTime": {
     "end_time": "2022-11-24T05:07:12.875437Z",
     "start_time": "2022-11-24T05:07:12.860391Z"
    }
   },
   "outputs": [
    {
     "data": {
      "text/plain": [
       "list"
      ]
     },
     "execution_count": 7,
     "metadata": {},
     "output_type": "execute_result"
    }
   ],
   "source": [
    "type(lst)"
   ]
  },
  {
   "cell_type": "code",
   "execution_count": 11,
   "id": "28d6c24b",
   "metadata": {
    "ExecuteTime": {
     "end_time": "2022-11-24T05:09:32.611059Z",
     "start_time": "2022-11-24T05:09:32.601060Z"
    }
   },
   "outputs": [
    {
     "data": {
      "text/plain": [
       "'Hello'"
      ]
     },
     "execution_count": 11,
     "metadata": {},
     "output_type": "execute_result"
    }
   ],
   "source": [
    "# Accessing Element from list\n",
    "lst[3]"
   ]
  },
  {
   "cell_type": "code",
   "execution_count": 15,
   "id": "1df651c4",
   "metadata": {
    "ExecuteTime": {
     "end_time": "2022-11-24T05:10:38.534598Z",
     "start_time": "2022-11-24T05:10:38.524646Z"
    }
   },
   "outputs": [
    {
     "data": {
      "text/plain": [
       "[10.5, True]"
      ]
     },
     "execution_count": 15,
     "metadata": {},
     "output_type": "execute_result"
    }
   ],
   "source": [
    "lst[1:3]"
   ]
  },
  {
   "cell_type": "code",
   "execution_count": 14,
   "id": "3d3f672a",
   "metadata": {
    "ExecuteTime": {
     "end_time": "2022-11-24T05:10:30.133068Z",
     "start_time": "2022-11-24T05:10:30.114044Z"
    }
   },
   "outputs": [
    {
     "data": {
      "text/plain": [
       "1000"
      ]
     },
     "execution_count": 14,
     "metadata": {},
     "output_type": "execute_result"
    }
   ],
   "source": [
    "lst[-1]"
   ]
  },
  {
   "cell_type": "code",
   "execution_count": 16,
   "id": "c7a7a6d5",
   "metadata": {
    "ExecuteTime": {
     "end_time": "2022-11-24T05:11:11.508869Z",
     "start_time": "2022-11-24T05:11:11.495872Z"
    }
   },
   "outputs": [],
   "source": [
    "#Append\n",
    "lst.append(1000)"
   ]
  },
  {
   "cell_type": "code",
   "execution_count": 17,
   "id": "f20e7ffa",
   "metadata": {
    "ExecuteTime": {
     "end_time": "2022-11-24T05:11:16.232669Z",
     "start_time": "2022-11-24T05:11:16.209621Z"
    }
   },
   "outputs": [
    {
     "data": {
      "text/plain": [
       "[10, 10.5, True, 'Hello', 1000, 1000, 1000]"
      ]
     },
     "execution_count": 17,
     "metadata": {},
     "output_type": "execute_result"
    }
   ],
   "source": [
    "lst"
   ]
  },
  {
   "cell_type": "code",
   "execution_count": 20,
   "id": "74b3c832",
   "metadata": {
    "ExecuteTime": {
     "end_time": "2022-11-24T05:11:55.298620Z",
     "start_time": "2022-11-24T05:11:55.278618Z"
    }
   },
   "outputs": [
    {
     "data": {
      "text/plain": [
       "1000"
      ]
     },
     "execution_count": 20,
     "metadata": {},
     "output_type": "execute_result"
    }
   ],
   "source": [
    "lst.pop(-1)"
   ]
  },
  {
   "cell_type": "code",
   "execution_count": 21,
   "id": "feb61cbd",
   "metadata": {
    "ExecuteTime": {
     "end_time": "2022-11-24T05:11:57.575502Z",
     "start_time": "2022-11-24T05:11:57.554465Z"
    }
   },
   "outputs": [
    {
     "data": {
      "text/plain": [
       "[10, 10.5, True, 'Hello', 1000]"
      ]
     },
     "execution_count": 21,
     "metadata": {},
     "output_type": "execute_result"
    }
   ],
   "source": [
    "lst"
   ]
  },
  {
   "cell_type": "code",
   "execution_count": 24,
   "id": "826668f3",
   "metadata": {
    "ExecuteTime": {
     "end_time": "2022-11-24T05:13:09.092747Z",
     "start_time": "2022-11-24T05:13:09.071746Z"
    }
   },
   "outputs": [
    {
     "data": {
      "text/plain": [
       "1"
      ]
     },
     "execution_count": 24,
     "metadata": {},
     "output_type": "execute_result"
    }
   ],
   "source": [
    "#Index\n",
    "lst.index(10.5)"
   ]
  },
  {
   "cell_type": "code",
   "execution_count": 26,
   "id": "1f815804",
   "metadata": {
    "ExecuteTime": {
     "end_time": "2022-11-24T05:14:26.116656Z",
     "start_time": "2022-11-24T05:14:26.104703Z"
    }
   },
   "outputs": [
    {
     "data": {
      "text/plain": [
       "1"
      ]
     },
     "execution_count": 26,
     "metadata": {},
     "output_type": "execute_result"
    }
   ],
   "source": [
    "lst.count(1000)  # it is count only in list"
   ]
  },
  {
   "cell_type": "code",
   "execution_count": 27,
   "id": "f5bdf174",
   "metadata": {
    "ExecuteTime": {
     "end_time": "2022-11-24T05:16:52.314030Z",
     "start_time": "2022-11-24T05:16:52.292034Z"
    }
   },
   "outputs": [],
   "source": [
    "#Remove\n",
    "lst.remove(10.5)\n"
   ]
  },
  {
   "cell_type": "code",
   "execution_count": 28,
   "id": "f3fbed40",
   "metadata": {
    "ExecuteTime": {
     "end_time": "2022-11-24T05:16:55.392825Z",
     "start_time": "2022-11-24T05:16:55.378869Z"
    }
   },
   "outputs": [
    {
     "data": {
      "text/plain": [
       "[10, True, 'Hello', 1000]"
      ]
     },
     "execution_count": 28,
     "metadata": {},
     "output_type": "execute_result"
    }
   ],
   "source": [
    "lst"
   ]
  },
  {
   "cell_type": "code",
   "execution_count": 29,
   "id": "8040bafd",
   "metadata": {
    "ExecuteTime": {
     "end_time": "2022-11-24T05:17:53.681765Z",
     "start_time": "2022-11-24T05:17:53.673763Z"
    }
   },
   "outputs": [],
   "source": [
    "#Reverse\n",
    "lst.reverse()"
   ]
  },
  {
   "cell_type": "code",
   "execution_count": 30,
   "id": "1dd4dee6",
   "metadata": {
    "ExecuteTime": {
     "end_time": "2022-11-24T05:17:57.496562Z",
     "start_time": "2022-11-24T05:17:57.473592Z"
    }
   },
   "outputs": [
    {
     "data": {
      "text/plain": [
       "[1000, 'Hello', True, 10]"
      ]
     },
     "execution_count": 30,
     "metadata": {},
     "output_type": "execute_result"
    }
   ],
   "source": [
    "lst"
   ]
  },
  {
   "cell_type": "code",
   "execution_count": 31,
   "id": "ff38e0f0",
   "metadata": {
    "ExecuteTime": {
     "end_time": "2022-11-24T05:19:18.635310Z",
     "start_time": "2022-11-24T05:19:18.624352Z"
    }
   },
   "outputs": [],
   "source": [
    "#Insert\n",
    "lst.insert(2,False)"
   ]
  },
  {
   "cell_type": "code",
   "execution_count": 32,
   "id": "d3bc49b9",
   "metadata": {
    "ExecuteTime": {
     "end_time": "2022-11-24T05:19:21.453208Z",
     "start_time": "2022-11-24T05:19:21.432157Z"
    }
   },
   "outputs": [
    {
     "data": {
      "text/plain": [
       "[1000, 'Hello', False, True, 10]"
      ]
     },
     "execution_count": 32,
     "metadata": {},
     "output_type": "execute_result"
    }
   ],
   "source": [
    "lst"
   ]
  },
  {
   "cell_type": "code",
   "execution_count": 33,
   "id": "7c4e5c74",
   "metadata": {
    "ExecuteTime": {
     "end_time": "2022-11-24T05:20:24.333884Z",
     "start_time": "2022-11-24T05:20:24.313857Z"
    }
   },
   "outputs": [],
   "source": [
    "#Replacing\n",
    "\n",
    "lst[1] = 'Hey'"
   ]
  },
  {
   "cell_type": "code",
   "execution_count": 34,
   "id": "7df7b993",
   "metadata": {
    "ExecuteTime": {
     "end_time": "2022-11-24T05:20:27.559686Z",
     "start_time": "2022-11-24T05:20:27.547735Z"
    }
   },
   "outputs": [
    {
     "data": {
      "text/plain": [
       "[1000, 'Hey', False, True, 10]"
      ]
     },
     "execution_count": 34,
     "metadata": {},
     "output_type": "execute_result"
    }
   ],
   "source": [
    "lst"
   ]
  },
  {
   "cell_type": "markdown",
   "id": "d808298f",
   "metadata": {},
   "source": [
    "## Tuple"
   ]
  },
  {
   "cell_type": "code",
   "execution_count": 35,
   "id": "c9d1223c",
   "metadata": {
    "ExecuteTime": {
     "end_time": "2022-11-24T05:42:27.943625Z",
     "start_time": "2022-11-24T05:42:27.928605Z"
    }
   },
   "outputs": [],
   "source": [
    "## Create a tuple\n",
    "\n",
    "Tup = (10,1.2,'Hi',1000,15.2)"
   ]
  },
  {
   "cell_type": "code",
   "execution_count": 37,
   "id": "ff04bdf3",
   "metadata": {
    "ExecuteTime": {
     "end_time": "2022-11-24T05:42:51.300398Z",
     "start_time": "2022-11-24T05:42:51.283398Z"
    }
   },
   "outputs": [
    {
     "data": {
      "text/plain": [
       "(10, 1.2, 'Hi', 1000, 15.2)"
      ]
     },
     "execution_count": 37,
     "metadata": {},
     "output_type": "execute_result"
    }
   ],
   "source": [
    "Tup"
   ]
  },
  {
   "cell_type": "code",
   "execution_count": 38,
   "id": "e79cec4d",
   "metadata": {
    "ExecuteTime": {
     "end_time": "2022-11-24T05:43:07.933477Z",
     "start_time": "2022-11-24T05:43:07.914480Z"
    }
   },
   "outputs": [
    {
     "data": {
      "text/plain": [
       "1"
      ]
     },
     "execution_count": 38,
     "metadata": {},
     "output_type": "execute_result"
    }
   ],
   "source": [
    "Tup.count(1000)"
   ]
  },
  {
   "cell_type": "code",
   "execution_count": 39,
   "id": "00fdaf72",
   "metadata": {
    "ExecuteTime": {
     "end_time": "2022-11-24T05:43:56.140997Z",
     "start_time": "2022-11-24T05:43:56.125948Z"
    }
   },
   "outputs": [],
   "source": [
    "Tup = list(Tup)"
   ]
  },
  {
   "cell_type": "code",
   "execution_count": 40,
   "id": "2c56046d",
   "metadata": {
    "ExecuteTime": {
     "end_time": "2022-11-24T05:44:04.782494Z",
     "start_time": "2022-11-24T05:44:04.771524Z"
    }
   },
   "outputs": [
    {
     "data": {
      "text/plain": [
       "list"
      ]
     },
     "execution_count": 40,
     "metadata": {},
     "output_type": "execute_result"
    }
   ],
   "source": [
    "type(Tup)"
   ]
  },
  {
   "cell_type": "code",
   "execution_count": 41,
   "id": "9b1334fe",
   "metadata": {
    "ExecuteTime": {
     "end_time": "2022-11-24T05:44:17.114847Z",
     "start_time": "2022-11-24T05:44:17.090848Z"
    }
   },
   "outputs": [
    {
     "data": {
      "text/plain": [
       "[10, 1.2, 'Hi', 1000, 15.2]"
      ]
     },
     "execution_count": 41,
     "metadata": {},
     "output_type": "execute_result"
    }
   ],
   "source": [
    "Tup"
   ]
  },
  {
   "cell_type": "code",
   "execution_count": 42,
   "id": "9283e0d7",
   "metadata": {
    "ExecuteTime": {
     "end_time": "2022-11-24T05:44:38.770712Z",
     "start_time": "2022-11-24T05:44:38.760761Z"
    }
   },
   "outputs": [
    {
     "data": {
      "text/plain": [
       "15.2"
      ]
     },
     "execution_count": 42,
     "metadata": {},
     "output_type": "execute_result"
    }
   ],
   "source": [
    "Tup[4]"
   ]
  },
  {
   "cell_type": "code",
   "execution_count": 43,
   "id": "855bb100",
   "metadata": {
    "ExecuteTime": {
     "end_time": "2022-11-24T05:44:48.331208Z",
     "start_time": "2022-11-24T05:44:48.308258Z"
    }
   },
   "outputs": [
    {
     "data": {
      "text/plain": [
       "['Hi', 1000, 15.2]"
      ]
     },
     "execution_count": 43,
     "metadata": {},
     "output_type": "execute_result"
    }
   ],
   "source": [
    "Tup[2:]"
   ]
  },
  {
   "cell_type": "code",
   "execution_count": 46,
   "id": "7748ec41",
   "metadata": {
    "ExecuteTime": {
     "end_time": "2022-11-24T05:45:41.261431Z",
     "start_time": "2022-11-24T05:45:41.247432Z"
    }
   },
   "outputs": [],
   "source": [
    "## Replacing Elements\n",
    "Tup[4] = 200"
   ]
  },
  {
   "cell_type": "code",
   "execution_count": 47,
   "id": "b612edfd",
   "metadata": {
    "ExecuteTime": {
     "end_time": "2022-11-24T05:45:45.613204Z",
     "start_time": "2022-11-24T05:45:45.603251Z"
    }
   },
   "outputs": [
    {
     "data": {
      "text/plain": [
       "[10, 1.2, 'Hi', 1000, 200]"
      ]
     },
     "execution_count": 47,
     "metadata": {},
     "output_type": "execute_result"
    }
   ],
   "source": [
    "Tup"
   ]
  },
  {
   "cell_type": "code",
   "execution_count": 48,
   "id": "fc5bd736",
   "metadata": {
    "ExecuteTime": {
     "end_time": "2022-11-24T05:46:23.501213Z",
     "start_time": "2022-11-24T05:46:23.485215Z"
    }
   },
   "outputs": [],
   "source": [
    "Tup = tuple(Tup)"
   ]
  },
  {
   "cell_type": "code",
   "execution_count": 52,
   "id": "00d29a69",
   "metadata": {
    "ExecuteTime": {
     "end_time": "2022-11-24T05:47:15.812470Z",
     "start_time": "2022-11-24T05:47:15.800516Z"
    }
   },
   "outputs": [
    {
     "data": {
      "text/plain": [
       "(10, 1.2, 'Hi', 1000, 200)"
      ]
     },
     "execution_count": 52,
     "metadata": {},
     "output_type": "execute_result"
    }
   ],
   "source": [
    "type(Tup)\n",
    "Tup"
   ]
  },
  {
   "cell_type": "code",
   "execution_count": 51,
   "id": "4e6ef5a7",
   "metadata": {
    "ExecuteTime": {
     "end_time": "2022-11-24T05:47:04.249124Z",
     "start_time": "2022-11-24T05:47:04.236123Z"
    }
   },
   "outputs": [
    {
     "data": {
      "text/plain": [
       "(10, 1.2, 'Hi', 1000, 200)"
      ]
     },
     "execution_count": 51,
     "metadata": {},
     "output_type": "execute_result"
    }
   ],
   "source": [
    "Tup"
   ]
  },
  {
   "cell_type": "markdown",
   "id": "f7b515c3",
   "metadata": {},
   "source": [
    "## Dictionary"
   ]
  },
  {
   "cell_type": "code",
   "execution_count": 53,
   "id": "4adc25a0",
   "metadata": {
    "ExecuteTime": {
     "end_time": "2022-11-24T05:49:31.408788Z",
     "start_time": "2022-11-24T05:49:31.385786Z"
    }
   },
   "outputs": [
    {
     "data": {
      "text/plain": [
       "dict"
      ]
     },
     "execution_count": 53,
     "metadata": {},
     "output_type": "execute_result"
    }
   ],
   "source": [
    "dict = {}\n",
    "type(dict)"
   ]
  },
  {
   "cell_type": "code",
   "execution_count": 54,
   "id": "12bdea30",
   "metadata": {
    "ExecuteTime": {
     "end_time": "2022-11-24T05:51:02.640998Z",
     "start_time": "2022-11-24T05:51:02.621956Z"
    }
   },
   "outputs": [],
   "source": [
    "##v Adding Elements \n",
    "\n",
    "dict={1:10,2:'A',3:True}"
   ]
  },
  {
   "cell_type": "code",
   "execution_count": 55,
   "id": "5cb8b13c",
   "metadata": {
    "ExecuteTime": {
     "end_time": "2022-11-24T05:51:07.778681Z",
     "start_time": "2022-11-24T05:51:07.758732Z"
    }
   },
   "outputs": [
    {
     "data": {
      "text/plain": [
       "{1: 10, 2: 'A', 3: True}"
      ]
     },
     "execution_count": 55,
     "metadata": {},
     "output_type": "execute_result"
    }
   ],
   "source": [
    "dict"
   ]
  },
  {
   "cell_type": "code",
   "execution_count": 56,
   "id": "7d5c20b7",
   "metadata": {
    "ExecuteTime": {
     "end_time": "2022-11-24T05:51:45.348757Z",
     "start_time": "2022-11-24T05:51:45.330711Z"
    }
   },
   "outputs": [
    {
     "data": {
      "text/plain": [
       "'A'"
      ]
     },
     "execution_count": 56,
     "metadata": {},
     "output_type": "execute_result"
    }
   ],
   "source": [
    "#get\n",
    "\n",
    "dict.get(2)"
   ]
  },
  {
   "cell_type": "code",
   "execution_count": 57,
   "id": "490cc513",
   "metadata": {
    "ExecuteTime": {
     "end_time": "2022-11-24T05:53:07.451401Z",
     "start_time": "2022-11-24T05:53:07.427451Z"
    }
   },
   "outputs": [
    {
     "data": {
      "text/plain": [
       "dict_items([(1, 10), (2, 'A'), (3, True)])"
      ]
     },
     "execution_count": 57,
     "metadata": {},
     "output_type": "execute_result"
    }
   ],
   "source": [
    "# Items\n",
    "\n",
    "dict.items()"
   ]
  },
  {
   "cell_type": "code",
   "execution_count": 58,
   "id": "0c8392a7",
   "metadata": {
    "ExecuteTime": {
     "end_time": "2022-11-24T05:54:20.760585Z",
     "start_time": "2022-11-24T05:54:20.747568Z"
    }
   },
   "outputs": [
    {
     "data": {
      "text/plain": [
       "dict_keys([1, 2, 3])"
      ]
     },
     "execution_count": 58,
     "metadata": {},
     "output_type": "execute_result"
    }
   ],
   "source": [
    "# Keys\n",
    "\n",
    "dict.keys()"
   ]
  },
  {
   "cell_type": "code",
   "execution_count": 59,
   "id": "febbd859",
   "metadata": {
    "ExecuteTime": {
     "end_time": "2022-11-24T05:56:59.032251Z",
     "start_time": "2022-11-24T05:56:59.024259Z"
    }
   },
   "outputs": [],
   "source": [
    "# Adding Value In Dict (update)\n",
    "\n",
    "dict.update({'Car':'BMW'})"
   ]
  },
  {
   "cell_type": "code",
   "execution_count": 60,
   "id": "57e0dca2",
   "metadata": {
    "ExecuteTime": {
     "end_time": "2022-11-24T05:57:07.757824Z",
     "start_time": "2022-11-24T05:57:07.745839Z"
    }
   },
   "outputs": [
    {
     "data": {
      "text/plain": [
       "{1: 10, 2: 'A', 3: True, 'Car': 'BMW'}"
      ]
     },
     "execution_count": 60,
     "metadata": {},
     "output_type": "execute_result"
    }
   ],
   "source": [
    "dict"
   ]
  },
  {
   "cell_type": "code",
   "execution_count": 62,
   "id": "a773ca7e",
   "metadata": {
    "ExecuteTime": {
     "end_time": "2022-11-24T05:57:26.188871Z",
     "start_time": "2022-11-24T05:57:26.170827Z"
    }
   },
   "outputs": [
    {
     "data": {
      "text/plain": [
       "True"
      ]
     },
     "execution_count": 62,
     "metadata": {},
     "output_type": "execute_result"
    }
   ],
   "source": [
    "dict.pop(3)"
   ]
  },
  {
   "cell_type": "code",
   "execution_count": 63,
   "id": "abde5721",
   "metadata": {
    "ExecuteTime": {
     "end_time": "2022-11-24T05:58:17.256142Z",
     "start_time": "2022-11-24T05:58:17.245143Z"
    }
   },
   "outputs": [
    {
     "data": {
      "text/plain": [
       "dict_values([10, 'A', 'BMW'])"
      ]
     },
     "execution_count": 63,
     "metadata": {},
     "output_type": "execute_result"
    }
   ],
   "source": [
    "#Values\n",
    "\n",
    "dict.values()"
   ]
  },
  {
   "cell_type": "code",
   "execution_count": 64,
   "id": "7c31b331",
   "metadata": {
    "ExecuteTime": {
     "end_time": "2022-11-24T05:58:53.363251Z",
     "start_time": "2022-11-24T05:58:53.341249Z"
    }
   },
   "outputs": [
    {
     "data": {
      "text/plain": [
       "dict"
      ]
     },
     "execution_count": 64,
     "metadata": {},
     "output_type": "execute_result"
    }
   ],
   "source": [
    "type(dict)"
   ]
  },
  {
   "cell_type": "markdown",
   "id": "f672bb7f",
   "metadata": {},
   "source": [
    "## Set"
   ]
  },
  {
   "cell_type": "code",
   "execution_count": 68,
   "id": "fa9ea7e2",
   "metadata": {
    "ExecuteTime": {
     "end_time": "2022-11-24T06:12:41.545001Z",
     "start_time": "2022-11-24T06:12:41.523001Z"
    }
   },
   "outputs": [
    {
     "data": {
      "text/plain": [
       "set"
      ]
     },
     "execution_count": 68,
     "metadata": {},
     "output_type": "execute_result"
    }
   ],
   "source": [
    "# Creating An Empty set\n",
    "\n",
    "s = {1,2,3,10.5,'A'}\n",
    "type(s)"
   ]
  },
  {
   "cell_type": "code",
   "execution_count": 67,
   "id": "b8c47797",
   "metadata": {
    "ExecuteTime": {
     "end_time": "2022-11-24T06:12:24.060875Z",
     "start_time": "2022-11-24T06:12:24.044872Z"
    }
   },
   "outputs": [
    {
     "data": {
      "text/plain": [
       "{1, 2, 3, 4, 5}"
      ]
     },
     "execution_count": 67,
     "metadata": {},
     "output_type": "execute_result"
    }
   ],
   "source": [
    "# Does not allow duplicate items\n",
    "\n",
    "S1 = {1,1,2,3,4,5}\n",
    "S1"
   ]
  },
  {
   "cell_type": "code",
   "execution_count": 69,
   "id": "4563e26d",
   "metadata": {
    "ExecuteTime": {
     "end_time": "2022-11-24T06:12:50.093508Z",
     "start_time": "2022-11-24T06:12:50.072508Z"
    }
   },
   "outputs": [
    {
     "data": {
      "text/plain": [
       "{1, 10.5, 2, 3, 'A'}"
      ]
     },
     "execution_count": 69,
     "metadata": {},
     "output_type": "execute_result"
    }
   ],
   "source": [
    "s"
   ]
  },
  {
   "cell_type": "code",
   "execution_count": 70,
   "id": "aee99809",
   "metadata": {
    "ExecuteTime": {
     "end_time": "2022-11-24T06:13:15.518174Z",
     "start_time": "2022-11-24T06:13:15.464173Z"
    }
   },
   "outputs": [
    {
     "ename": "TypeError",
     "evalue": "'set' object is not subscriptable",
     "output_type": "error",
     "traceback": [
      "\u001b[1;31m---------------------------------------------------------------------------\u001b[0m",
      "\u001b[1;31mTypeError\u001b[0m                                 Traceback (most recent call last)",
      "Input \u001b[1;32mIn [70]\u001b[0m, in \u001b[0;36m<cell line: 3>\u001b[1;34m()\u001b[0m\n\u001b[0;32m      1\u001b[0m \u001b[38;5;66;03m# Does not allow duplicate items\u001b[39;00m\n\u001b[1;32m----> 3\u001b[0m \u001b[43ms\u001b[49m\u001b[43m[\u001b[49m\u001b[38;5;241;43m-\u001b[39;49m\u001b[38;5;241;43m1\u001b[39;49m\u001b[43m]\u001b[49m\n",
      "\u001b[1;31mTypeError\u001b[0m: 'set' object is not subscriptable"
     ]
    }
   ],
   "source": [
    "# Does not allow duplicate items\n",
    "\n",
    "s[-1]"
   ]
  },
  {
   "cell_type": "code",
   "execution_count": 71,
   "id": "f294b56d",
   "metadata": {
    "ExecuteTime": {
     "end_time": "2022-11-24T06:13:55.805057Z",
     "start_time": "2022-11-24T06:13:55.785060Z"
    }
   },
   "outputs": [
    {
     "data": {
      "text/plain": [
       "{1, 10.5, 100, 2, 3, 'A'}"
      ]
     },
     "execution_count": 71,
     "metadata": {},
     "output_type": "execute_result"
    }
   ],
   "source": [
    "# Add\n",
    "\n",
    "s.add(100)\n",
    "s"
   ]
  },
  {
   "cell_type": "code",
   "execution_count": 72,
   "id": "c9a85e5e",
   "metadata": {
    "ExecuteTime": {
     "end_time": "2022-11-24T06:15:20.896636Z",
     "start_time": "2022-11-24T06:15:20.887593Z"
    }
   },
   "outputs": [],
   "source": [
    "a = {'Apple','Mango','Cherry'}\n",
    "b = {'Microsoft','Google','Cherry'}"
   ]
  },
  {
   "cell_type": "code",
   "execution_count": 73,
   "id": "1557bff0",
   "metadata": {
    "ExecuteTime": {
     "end_time": "2022-11-24T06:15:48.087212Z",
     "start_time": "2022-11-24T06:15:48.067164Z"
    }
   },
   "outputs": [
    {
     "data": {
      "text/plain": [
       "{'Apple', 'Mango'}"
      ]
     },
     "execution_count": 73,
     "metadata": {},
     "output_type": "execute_result"
    }
   ],
   "source": [
    "# Difference\n",
    "\n",
    "a.difference(b)"
   ]
  },
  {
   "cell_type": "code",
   "execution_count": 74,
   "id": "f5113e9f",
   "metadata": {
    "ExecuteTime": {
     "end_time": "2022-11-24T06:16:06.882228Z",
     "start_time": "2022-11-24T06:16:06.863178Z"
    }
   },
   "outputs": [
    {
     "data": {
      "text/plain": [
       "{'Google', 'Microsoft'}"
      ]
     },
     "execution_count": 74,
     "metadata": {},
     "output_type": "execute_result"
    }
   ],
   "source": [
    "b.difference(a)"
   ]
  },
  {
   "cell_type": "code",
   "execution_count": 75,
   "id": "49257ee7",
   "metadata": {
    "ExecuteTime": {
     "end_time": "2022-11-24T06:16:32.732820Z",
     "start_time": "2022-11-24T06:16:32.706821Z"
    }
   },
   "outputs": [
    {
     "data": {
      "text/plain": [
       "{'Apple', 'Cherry', 'Google', 'Mango', 'Microsoft'}"
      ]
     },
     "execution_count": 75,
     "metadata": {},
     "output_type": "execute_result"
    }
   ],
   "source": [
    "## union\n",
    "\n",
    "a.union(b)"
   ]
  },
  {
   "cell_type": "code",
   "execution_count": 76,
   "id": "4ade4c24",
   "metadata": {
    "ExecuteTime": {
     "end_time": "2022-11-24T06:17:17.331511Z",
     "start_time": "2022-11-24T06:17:17.312481Z"
    }
   },
   "outputs": [
    {
     "data": {
      "text/plain": [
       "'Mango'"
      ]
     },
     "execution_count": 76,
     "metadata": {},
     "output_type": "execute_result"
    }
   ],
   "source": [
    "# Pop\n",
    "\n",
    "a.pop()"
   ]
  },
  {
   "cell_type": "code",
   "execution_count": 77,
   "id": "0f908749",
   "metadata": {
    "ExecuteTime": {
     "end_time": "2022-11-24T06:17:25.216813Z",
     "start_time": "2022-11-24T06:17:25.203815Z"
    }
   },
   "outputs": [
    {
     "data": {
      "text/plain": [
       "{1, 10.5, 100, 2, 3, 'A'}"
      ]
     },
     "execution_count": 77,
     "metadata": {},
     "output_type": "execute_result"
    }
   ],
   "source": [
    "s"
   ]
  },
  {
   "cell_type": "code",
   "execution_count": 78,
   "id": "893d44bc",
   "metadata": {
    "ExecuteTime": {
     "end_time": "2022-11-24T06:17:34.090482Z",
     "start_time": "2022-11-24T06:17:34.071485Z"
    }
   },
   "outputs": [
    {
     "data": {
      "text/plain": [
       "({'Apple', 'Cherry'}, {'Cherry', 'Google', 'Microsoft'})"
      ]
     },
     "execution_count": 78,
     "metadata": {},
     "output_type": "execute_result"
    }
   ],
   "source": [
    "a,b"
   ]
  },
  {
   "cell_type": "code",
   "execution_count": 79,
   "id": "1903aca7",
   "metadata": {
    "ExecuteTime": {
     "end_time": "2022-11-24T06:18:40.393312Z",
     "start_time": "2022-11-24T06:18:40.377264Z"
    }
   },
   "outputs": [],
   "source": [
    "b.discard('Cherry')"
   ]
  },
  {
   "cell_type": "code",
   "execution_count": 82,
   "id": "a3522a2b",
   "metadata": {
    "ExecuteTime": {
     "end_time": "2022-11-24T06:19:06.503894Z",
     "start_time": "2022-11-24T06:19:06.482894Z"
    }
   },
   "outputs": [
    {
     "data": {
      "text/plain": [
       "({'Apple', 'Cherry'}, {'Google', 'Microsoft'})"
      ]
     },
     "execution_count": 82,
     "metadata": {},
     "output_type": "execute_result"
    }
   ],
   "source": [
    "a,b"
   ]
  },
  {
   "cell_type": "code",
   "execution_count": null,
   "id": "f672a0e1",
   "metadata": {},
   "outputs": [],
   "source": []
  }
 ],
 "metadata": {
  "_draft": {
   "nbviewer_url": "https://gist.github.com/2bbfbe1f668bd0079088e52874cdafd1"
  },
  "gist": {
   "data": {
    "description": "Basic_Part.ipynb",
    "public": true
   },
   "id": "2bbfbe1f668bd0079088e52874cdafd1"
  },
  "kernelspec": {
   "display_name": "Python 3 (ipykernel)",
   "language": "python",
   "name": "python3"
  },
  "language_info": {
   "codemirror_mode": {
    "name": "ipython",
    "version": 3
   },
   "file_extension": ".py",
   "mimetype": "text/x-python",
   "name": "python",
   "nbconvert_exporter": "python",
   "pygments_lexer": "ipython3",
   "version": "3.9.12"
  }
 },
 "nbformat": 4,
 "nbformat_minor": 5
}
